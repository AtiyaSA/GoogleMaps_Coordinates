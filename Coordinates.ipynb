{
 "cells": [
  {
   "cell_type": "code",
   "execution_count": 33,
   "id": "e4889ebd",
   "metadata": {},
   "outputs": [],
   "source": [
    "#import libraries\n",
    "import selenium\n",
    "from selenium.webdriver.common.keys import Keys\n",
    "from selenium.webdriver.common.by import By\n",
    "from selenium import webdriver\n",
    "from urllib.request import urlopen\n",
    "import time\n",
    "import warnings\n",
    "warnings.filterwarnings(\"ignore\", category=DeprecationWarning)"
   ]
  },
  {
   "cell_type": "code",
   "execution_count": 34,
   "id": "291d4c01",
   "metadata": {},
   "outputs": [],
   "source": [
    "#udf to get coordinates\n",
    "def coordinates(st):\n",
    "    browser=webdriver.Chrome()\n",
    "    browser.maximize_window()\n",
    "    #gets google maps\n",
    "    browser.get(\"https://www.google.com/maps\")\n",
    "    #sends the text (address) to the search bar in the website\n",
    "    browser.find_element_by_class_name('tactile-searchbox-input').send_keys(st)\n",
    "    #clicks on search icon\n",
    "    browser.find_element_by_id('searchbox-searchbutton').send_keys(Keys.ENTER)\n",
    "    time.sleep(3)\n",
    "    #gets the current url of the browser that contains the coordinates\n",
    "    url = browser.current_url\n",
    "    #extract the coordinates from the url\n",
    "    co = url.split('@')[1].split('/')[0]\n",
    "    browser.quit()\n",
    "    return co"
   ]
  },
  {
   "cell_type": "code",
   "execution_count": 35,
   "id": "38f67fe1",
   "metadata": {},
   "outputs": [
    {
     "name": "stdout",
     "output_type": "stream",
     "text": [
      "Enter address : Central Mall, Bellandur, Bengalore\n",
      "Coordinates for Central Mall, Bellandur, Bengalore is: 12.9140765,77.6650548,15z\n"
     ]
    }
   ],
   "source": [
    "address = input('Enter address : ')\n",
    "coord = coordinates(address)\n",
    "print('Coordinates for', address, 'is:', coord)"
   ]
  },
  {
   "cell_type": "code",
   "execution_count": null,
   "id": "d78ef865",
   "metadata": {},
   "outputs": [],
   "source": []
  }
 ],
 "metadata": {
  "kernelspec": {
   "display_name": "Python 3",
   "language": "python",
   "name": "python3"
  },
  "language_info": {
   "codemirror_mode": {
    "name": "ipython",
    "version": 3
   },
   "file_extension": ".py",
   "mimetype": "text/x-python",
   "name": "python",
   "nbconvert_exporter": "python",
   "pygments_lexer": "ipython3",
   "version": "3.8.8"
  }
 },
 "nbformat": 4,
 "nbformat_minor": 5
}
