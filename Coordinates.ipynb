{
 "cells": [
  {
   "cell_type": "code",
   "execution_count": 1,
   "id": "e4889ebd",
   "metadata": {},
   "outputs": [],
   "source": [
    "#import libraries\n",
    "import selenium\n",
    "from selenium.webdriver.common.keys import Keys\n",
    "from selenium.webdriver.common.by import By\n",
    "from selenium import webdriver\n",
    "import time",
    "import warnings",
    "warnings.filterwarnings('ignore', category=DeprecationWarning)"
   ]
  },
  {
   "cell_type": "code",
   "execution_count": 31,
   "id": "291d4c01",
   "metadata": {},
   "outputs": [],
   "source": [
    "#udf to get coordinates\n",
    "def coordinates(st):\n",
    "    browser=webdriver.Chrome()\n",
    "    browser.maximize_window()\n",
    "    #gets google maps\n",
    "    browser.get(\"https://www.google.com/maps\")\n",
    "    #sends the text (address) to the search bar in the website\n",
    "    browser.find_element_by_class_name('tactile-searchbox-input').send_keys(st)\n",
    "    #clicks on search icon\n",
    "    browser.find_element_by_id('searchbox-searchbutton').send_keys(Keys.ENTER)\n",
    "    time.sleep(3)\n",
    "    #gets the current url of the browser that contains the coordinates\n",
    "    url = browser.current_url\n",
    "    #extract the coordinates from the url\n",
    "    co = url.split('@')[1].split('/')[0]\n",
    "    browser.quit()\n",
    "    return co"
   ]
  },
  {
   "cell_type": "code",
   "execution_count": 32,
   "id": "38f67fe1",
   "metadata": {},
   "outputs": [
    {
     "name": "stdout",
     "output_type": "stream",
     "text": [
      "Enter address : Holy Cross School, Ghatotand, West Bokaro, 825314\n"
     ]
    },
    {
     "name": "stderr",
     "output_type": "stream",
     "text": [
      "<ipython-input-31-74a38f0ff086>:5: DeprecationWarning: find_element_by_* commands are deprecated. Please use find_element() instead\n",
      "  browser.find_element_by_class_name('tactile-searchbox-input').send_keys(st)\n",
      "<ipython-input-31-74a38f0ff086>:6: DeprecationWarning: find_element_by_* commands are deprecated. Please use find_element() instead\n",
      "  browser.find_element_by_id('searchbox-searchbutton').send_keys(Keys.ENTER)\n"
     ]
    },
    {
     "name": "stdout",
     "output_type": "stream",
     "text": [
      "Coordinates for Holy Cross School, Ghatotand, West Bokaro, 825314 is: 23.7898019,85.5747413,17z\n"
     ]
    }
   ],
   "source": [
    "address = input('Enter address : ')\n",
    "coord = coordinates(address)\n",
    "print('Coordinates for', address, 'is:', coord)"
   ]
  },
  {
   "cell_type": "code",
   "execution_count": null,
   "id": "7eeae8a3",
   "metadata": {},
   "outputs": [],
   "source": []
  }
 ],
 "metadata": {
  "kernelspec": {
   "display_name": "Python 3",
   "language": "python",
   "name": "python3"
  },
  "language_info": {
   "codemirror_mode": {
    "name": "ipython",
    "version": 3
   },
   "file_extension": ".py",
   "mimetype": "text/x-python",
   "name": "python",
   "nbconvert_exporter": "python",
   "pygments_lexer": "ipython3",
   "version": "3.8.8"
  }
 },
 "nbformat": 4,
 "nbformat_minor": 5
}
